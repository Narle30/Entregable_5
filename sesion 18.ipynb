{
  "nbformat": 4,
  "nbformat_minor": 0,
  "metadata": {
    "colab": {
      "provenance": []
    },
    "kernelspec": {
      "name": "python3",
      "display_name": "Python 3"
    },
    "language_info": {
      "name": "python"
    }
  },
  "cells": [
    {
      "cell_type": "code",
      "execution_count": null,
      "metadata": {
        "colab": {
          "base_uri": "https://localhost:8080/"
        },
        "id": "8B8Ah4lOLtvt",
        "outputId": "1e9c347c-1b82-49ae-c385-0c81a1338f71"
      },
      "outputs": [
        {
          "output_type": "stream",
          "name": "stdout",
          "text": [
            "Ingrese su nombre: f\n",
            "Ingrese su edad: 23\n",
            "Ingrese su estatura1.65\n",
            "¿Es estudiante?(Si/No): si\n",
            "Hola, f su edad es 23 estatura: 1.65 Estudiante: si \n"
          ]
        }
      ],
      "source": [
        "nombre=input(\"Ingrese su nombre: \")\n",
        "edad=eval(input(\"Ingrese su edad: \"))\n",
        "estatura=float(input(\"Ingrese su estatura\"))\n",
        "esEstudiante=input(\"¿Es estudiante?(Si/No): \")\n",
        "print(f\"Hola, {nombre} su edad es {edad} estatura: {estatura} Estudiante: {esEstudiante} \")"
      ]
    },
    {
      "cell_type": "code",
      "source": [
        "import math as math\n",
        "num1=int(input(\"Ingrese el primer numero: \"))\n",
        "num2=int(input(\"Ingrese el segundo numero: \"))\n",
        "sumar=num1+num2\n",
        "restar=num1-num2\n",
        "multiplicar=num1*num2\n",
        "dividir=num1/num2\n",
        "potencia1=math.pow(num1,num2)\n",
        "potencia2=num1**num2\n",
        "print(f\"La suma es: {sumar}\")\n",
        "print(f\"La resta es: {restar}\")\n",
        "print(f\"La multiplicacion es: {multiplicar}\")\n",
        "print(f\"La division es: {dividir}\")\n",
        "print(f\"La potencia opcion 1 es: {potencia1}\")\n",
        "print(f\"La potencia opcion dos es: {potencia2}\")"
      ],
      "metadata": {
        "colab": {
          "base_uri": "https://localhost:8080/"
        },
        "id": "3G5535O_RZh9",
        "outputId": "743de316-0cc9-4597-fab4-942aa0864961"
      },
      "execution_count": null,
      "outputs": [
        {
          "output_type": "stream",
          "name": "stdout",
          "text": [
            "Ingrese el primer numero: 65\n",
            "Ingrese el segundo numero: 30\n",
            "La suma es: 95\n",
            "La resta es: 35\n",
            "La multiplicacion es: 1950\n",
            "La division es: 2.1666666666666665\n",
            "La potencia opcion 1 es: 2.4400610883254044e+54\n",
            "La potencia opcion dos es: 2440061088325404525157577761293434537947177886962890625\n"
          ]
        }
      ]
    },
    {
      "cell_type": "code",
      "source": [
        "# Captura de las frases por teclado\n",
        "frase1 = input(\"Ingrese la frase 1: \")\n",
        "frase2 = input(\"Ingrese la frase 2: \")\n",
        "frase_concatenada = frase1 + \" \" + frase2\n",
        "print(\"Frase concatenada:\", frase_concatenada)\n",
        "frase_con_fstring = f\"{frase1} {frase2}\"\n",
        "print(\"Frase con f-strings:\", frase_con_fstring)\n"
      ],
      "metadata": {
        "colab": {
          "base_uri": "https://localhost:8080/"
        },
        "id": "UFtbvqNlT2Su",
        "outputId": "94022b6a-b4a8-4f0c-d9bb-f6efac676ada"
      },
      "execution_count": null,
      "outputs": [
        {
          "output_type": "stream",
          "name": "stdout",
          "text": [
            "Ingrese la frase 1: Hola\n",
            "Ingrese la frase 2: Besos!\n",
            "Frase concatenada: Hola Besos!\n",
            "Frase con f-strings: Hola Besos!\n"
          ]
        }
      ]
    },
    {
      "cell_type": "markdown",
      "source": [
        "#"
      ],
      "metadata": {
        "id": "d7oamf1OOwms"
      }
    },
    {
      "cell_type": "code",
      "source": [
        "lista=[] #definicion de una lista vacía\n",
        "\n",
        "#Ingreso de datos a la lista\n",
        "for i in range(1,10):\n",
        "  valor=int(input(f\"Ingrese el valor {i} de la lista: \"))\n",
        "  lista.append(i)\n",
        "\n",
        "print(lista)\n",
        "print(lista[len(lista)-1])\n",
        "\n",
        "#segunda parte modificacion de elemento\n",
        "lista.append:(\"Narle\")\n",
        "print(f\"Lista modificada: {lista}\")\n",
        "\n",
        "#agregar elemento e imprimir\n",
        "lista.append(\"Narle\")\n",
        "print(f\"Lista modificada: {lista}\")\n",
        "\n",
        "#eliminar elemento de la lista\n",
        "lista.remove(\"Narle\")\n",
        "print(f\"Lista con modificada con elemento: {lista}\")\n",
        "\n"
      ],
      "metadata": {
        "colab": {
          "base_uri": "https://localhost:8080/"
        },
        "id": "xlD82b3oVU2v",
        "outputId": "f4abc9c9-caae-4ba9-adc3-b0866357aa8d"
      },
      "execution_count": null,
      "outputs": [
        {
          "output_type": "stream",
          "name": "stdout",
          "text": [
            "Ingrese el valor 1 de la lista: 1\n",
            "Ingrese el valor 2 de la lista: 2\n",
            "Ingrese el valor 3 de la lista: 3\n",
            "Ingrese el valor 4 de la lista: 4\n",
            "Ingrese el valor 5 de la lista: 5\n",
            "Ingrese el valor 6 de la lista: 6\n",
            "Ingrese el valor 7 de la lista: 7\n",
            "Ingrese el valor 8 de la lista: 8\n",
            "Ingrese el valor 9 de la lista: 9\n",
            "[1, 2, 3, 4, 5, 6, 7, 8, 9]\n",
            "9\n",
            "Lista modificada: [1, 2, 3, 4, 5, 6, 7, 8, 9]\n",
            "Lista modificada: [1, 2, 3, 4, 5, 6, 7, 8, 9, 'Narle']\n",
            "Lista con modificada con elemento: [1, 2, 3, 4, 5, 6, 7, 8, 9]\n"
          ]
        }
      ]
    },
    {
      "cell_type": "code",
      "source": [
        "#ejercicio N°5\n",
        "# Crea un diccionario con información sobre una persona\n",
        "dicci = {\n",
        "    \"nombre\": \"Carlos\",\n",
        "    \"edad\": 28,\n",
        "    \"ciudad\": \"Madrid\",\n",
        "    \"profesion\": \"Ingeniero\"\n",
        "}\n",
        "\n",
        "# Accede y modifica los valores dentro del diccionario\n",
        "print(\"Edad original:\", dicci[\"edad\"])  # Accediendo al valor de la clave \"edad\"\n",
        "dicci[\"edad\"] = 32  # Modificando el valor de la clave \"edad\"\n",
        "print(\"Edad modificada:\", dicci[\"edad\"])  # Mostrando el valor modificado\n",
        "\n",
        "# Agrega un nuevo par clave-valor al diccionario\n",
        "dicci[\"email\"] = \"carlos@gmail.com\"  # Agregamos una nueva clave-valor\n",
        "print(\"Diccionario después de agregar un nuevo par clave-valor:\", dicci)\n",
        "\n"
      ],
      "metadata": {
        "colab": {
          "base_uri": "https://localhost:8080/"
        },
        "id": "F_hOY7oBl3ua",
        "outputId": "8488016c-d1bf-4333-aa2f-cc7df0c5c944"
      },
      "execution_count": null,
      "outputs": [
        {
          "output_type": "stream",
          "name": "stdout",
          "text": [
            "Edad original: 28\n",
            "Edad modificada: 32\n",
            "Diccionario después de agregar un nuevo par clave-valor: {'nombre': 'Carlos', 'edad': 32, 'ciudad': 'Madrid', 'profesion': 'Ingeniero', 'email': 'carlos@gmail.com'}\n"
          ]
        }
      ]
    },
    {
      "cell_type": "markdown",
      "source": [],
      "metadata": {
        "id": "xZLIxbN4L29Y"
      }
    },
    {
      "cell_type": "code",
      "source": [
        "#range(inicio,fin,incremento),cadenas,listas\n",
        "for i in range(1,11,1):\n",
        "  print(i)\n",
        "\n",
        "#iterar sobre cadenas\n",
        "  print(\"Iterar sobre cadena\")\n",
        "  for i in \"ejemplo@gmail.com\":\n",
        "    print(i)\n",
        "\n",
        "    #iterar sobre listas\n",
        "    lista=[\"uno\",\"dos\",\"tres\"]\n",
        "    for i in lista:\n",
        "      print(i)"
      ],
      "metadata": {
        "colab": {
          "base_uri": "https://localhost:8080/"
        },
        "id": "ABl8fBJu_1tC",
        "outputId": "559587a2-27c6-45c5-f093-826ce5092abe"
      },
      "execution_count": null,
      "outputs": [
        {
          "output_type": "stream",
          "name": "stdout",
          "text": [
            "1\n",
            "2\n",
            "3\n",
            "4\n",
            "5\n",
            "6\n",
            "7\n",
            "8\n",
            "9\n",
            "10\n"
          ]
        }
      ]
    },
    {
      "cell_type": "code",
      "source": [
        "#uso de while\n",
        "i=1\n",
        "while i<=10:\n",
        "  print(i)\n",
        "  i+=1"
      ],
      "metadata": {
        "id": "R4ofrCjZCPEM"
      },
      "execution_count": null,
      "outputs": []
    },
    {
      "cell_type": "code",
      "source": [
        "num1=10\n",
        "num2=20\n",
        "num3=30\n",
        "if num1>num2 and num1>num3:\n",
        "  print(f\"El numero mayor es: {num1}\")\n",
        "if num2>num3:\n",
        "    print(f\"El numero mayor es: {num2}\")\n",
        "else:\n",
        "    print(f\"El numero mayor es: {num3}\")\n",
        "\n",
        "#if elif else\n",
        "if num1>num2 and num1>num3:\n",
        "  print(f\"El numero mayor es: {num1}\")\n",
        "elif num2>num3:\n",
        "    print(f\"El numero mayor es: {num2}\")\n",
        "else:\n",
        "    print(f\"El numero mayor es: {num3}\")\n",
        "\n"
      ],
      "metadata": {
        "colab": {
          "base_uri": "https://localhost:8080/"
        },
        "id": "o-0pr64LCYqP",
        "outputId": "1dd49718-91b0-410d-9588-2882dab59fc3"
      },
      "execution_count": null,
      "outputs": [
        {
          "output_type": "stream",
          "name": "stdout",
          "text": [
            "El numero mayor es: 30\n",
            "El numero mayor es: 30\n"
          ]
        }
      ]
    },
    {
      "cell_type": "code",
      "source": [
        "def sumar(n1,n2):\n",
        "  print(f\"La sumatoria es: {n1+n2}\")\n",
        "def restar(n1,n2):\n",
        "   print(f\"La resta es: {n1-n2}\")\n",
        "def multiplicar(n1,n2):\n",
        "   print(f\"La multiplicacion es: {n1*n2}\")\n",
        "def dividir(n1,n2):\n",
        "   print(f\"La division es: {n1/n2}\")\n",
        "\n",
        "def calculadora(num1,num2,operacion): # Define calculadora in the global scope\n",
        "    if operacion==\"sumar\":\n",
        "      sumar(num1,num2)\n",
        "    if operacion==\"restar\":\n",
        "      restar(num1,num2)\n",
        "    if operacion==\"multiplicar\":\n",
        "      multiplicar(num1,num2)\n",
        "    if operacion==\"dividir\":\n",
        "      dividir(num1,num2)\n",
        "\n",
        "num1=int(input(\"Ingrese el primer numero: \"))\n",
        "num2=int(input(\"Ingrese el segundo numero: \"))\n",
        "operacion=input(\"Ingrese la operacion a realizar:\")\n",
        "calculadora(num1,num2,operacion)"
      ],
      "metadata": {
        "colab": {
          "base_uri": "https://localhost:8080/"
        },
        "id": "mIYzfNETFc8Z",
        "outputId": "442a201e-a660-4b62-cf7d-5e3b0f1ec208"
      },
      "execution_count": null,
      "outputs": [
        {
          "output_type": "stream",
          "name": "stdout",
          "text": [
            "Ingrese el primer numero: 1\n",
            "Ingrese el segundo numero: 45\n",
            "Ingrese la operacion a realizar:sumar\n",
            "La sumatoria es: 46\n"
          ]
        }
      ]
    }
  ]
}